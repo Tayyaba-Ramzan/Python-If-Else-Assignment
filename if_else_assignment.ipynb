{
  "nbformat": 4,
  "nbformat_minor": 0,
  "metadata": {
    "colab": {
      "provenance": [],
      "authorship_tag": "ABX9TyMoUQy8jKrXOWZ7qdaQ7ute",
      "include_colab_link": true
    },
    "kernelspec": {
      "name": "python3",
      "display_name": "Python 3"
    },
    "language_info": {
      "name": "python"
    }
  },
  "cells": [
    {
      "cell_type": "markdown",
      "metadata": {
        "id": "view-in-github",
        "colab_type": "text"
      },
      "source": [
        "<a href=\"https://colab.research.google.com/github/Tayyaba-Ramzan/Python-If-Else-Assignment/blob/main/if_else_assignment.ipynb\" target=\"_parent\"><img src=\"https://colab.research.google.com/assets/colab-badge.svg\" alt=\"Open In Colab\"/></a>"
      ]
    },
    {
      "cell_type": "markdown",
      "source": [
        "Simple Calculator Project"
      ],
      "metadata": {
        "id": "Df8gHR4P2Xhu"
      }
    },
    {
      "cell_type": "code",
      "source": [
        "num1 = float(input(\"Enter the first number: \"))\n",
        "num2 = float(input(\"Enter the second number: \"))\n",
        "operator = input(\"Enter the operator (+, -, *, /, %, **, //): \")\n",
        "\n",
        "if operator == \"+\":\n",
        "    print(\"Result:\", num1 + num2)\n",
        "elif operator == \"-\":\n",
        "    print(\"Result:\", num1 - num2)\n",
        "elif operator == \"*\":\n",
        "    print(\"Result:\", num1 * num2)\n",
        "elif operator == \"/\":\n",
        "    print(\"Result:\", num1 / num2 if num2 != 0 else \"Error: Cannot divide by zero!\")\n",
        "elif operator == \"%\":\n",
        "    print(\"Result:\", num1 % num2 if num2 != 0 else \"Error: Cannot modulus by zero!\")\n",
        "elif operator == \"**\":\n",
        "    print(\"Result:\", num1 ** num2)\n",
        "elif operator == \"//\":\n",
        "    print(\"Result:\", num1 // num2 if num2 != 0 else \"Error: Cannot floor divide by zero!\")\n",
        "else:\n",
        "    print(\"Invalid operator!\")\n"
      ],
      "metadata": {
        "id": "06ZXTZno_Aut"
      },
      "execution_count": null,
      "outputs": []
    },
    {
      "cell_type": "markdown",
      "source": [
        "Grade Marking System"
      ],
      "metadata": {
        "id": "qtMCFgon5Hya"
      }
    },
    {
      "cell_type": "code",
      "source": [
        "marks = int(input(\"Enter the Marks: \"))\n",
        "\n",
        "if 80 <= marks <= 100:\n",
        "    print(\"Grade: A+ (Excellent)\")\n",
        "elif 70 <= marks < 80:\n",
        "    print(\"Grade: A\")\n",
        "elif 60 <= marks < 70:\n",
        "    print(\"Grade: B\")\n",
        "elif 50 <= marks < 60:\n",
        "    print(\"Grade: C\")\n",
        "elif 40 <= marks < 50:\n",
        "    print(\"Grade: D (Needs Improvement)\")\n",
        "else:\n",
        "    print(\"Grade: F (Fail)\")  # Fail case\n",
        "\n"
      ],
      "metadata": {
        "colab": {
          "base_uri": "https://localhost:8080/"
        },
        "id": "zE6By6-X5MMT",
        "outputId": "d86d2426-5442-4bb1-e7a9-a81384f9d29b"
      },
      "execution_count": 8,
      "outputs": [
        {
          "output_type": "stream",
          "name": "stdout",
          "text": [
            "Enter the Marks: 44\n",
            "Grade: D (Needs Improvement)\n"
          ]
        }
      ]
    },
    {
      "cell_type": "markdown",
      "source": [
        "Voting Eligibility Checker"
      ],
      "metadata": {
        "id": "HfWbimB47hDx"
      }
    },
    {
      "cell_type": "code",
      "source": [
        "age = int(input(\"Enter your age: \"))\n",
        "\n",
        "if age >= 18:\n",
        "    print(\"✅ You are eligible to vote! 🗳️\")\n",
        "else:\n",
        "    print(\"❌ Sorry, you are not eligible to vote yet. Wait until you turn 18.\")\n"
      ],
      "metadata": {
        "colab": {
          "base_uri": "https://localhost:8080/"
        },
        "id": "7K6lhra77iso",
        "outputId": "4de7731e-94f7-4f43-e24a-8eaae45dacd2"
      },
      "execution_count": 9,
      "outputs": [
        {
          "output_type": "stream",
          "name": "stdout",
          "text": [
            "Enter your age: 17\n",
            "❌ Sorry, you are not eligible to vote yet. Wait until you turn 18.\n"
          ]
        }
      ]
    }
  ]
}